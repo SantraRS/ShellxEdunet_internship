{
  "nbformat": 4,
  "nbformat_minor": 0,
  "metadata": {
    "colab": {
      "provenance": []
    },
    "kernelspec": {
      "name": "python3",
      "display_name": "Python 3"
    },
    "language_info": {
      "name": "python"
    }
  },
  "cells": [
    {
      "cell_type": "code",
      "source": [
        "import pandas as pd\n",
        "import numpy as np\n",
        "from functools import reduce\n",
        "from itertools import compress"
      ],
      "metadata": {
        "id": "hztOEpW_IivH"
      },
      "execution_count": 35,
      "outputs": []
    },
    {
      "cell_type": "code",
      "source": [
        "# Load the dataset\n",
        "orig_data_file = r\"/content/sample_data/climate_change_download_0.xls\"\n",
        "data_sheet = \"Data\"\n",
        "data_orig = pd.read_excel(io=orig_data_file, sheet_name=data_sheet)"
      ],
      "metadata": {
        "id": "iunkeg72ImTa"
      },
      "execution_count": 36,
      "outputs": []
    },
    {
      "cell_type": "code",
      "source": [
        "print(\"Shape of the original dataset:\")\n",
        "print(data_orig.shape)"
      ],
      "metadata": {
        "colab": {
          "base_uri": "https://localhost:8080/"
        },
        "id": "jsdEq-hDIvf0",
        "outputId": "3151871a-4b36-484f-fccb-ffb67aca531a"
      },
      "execution_count": 37,
      "outputs": [
        {
          "output_type": "stream",
          "name": "stdout",
          "text": [
            "Shape of the original dataset:\n",
            "(13512, 28)\n"
          ]
        }
      ]
    },
    {
      "cell_type": "code",
      "source": [
        "print(\"Available columns:\")\n",
        "print(data_orig.columns)"
      ],
      "metadata": {
        "colab": {
          "base_uri": "https://localhost:8080/"
        },
        "id": "MdESCQOyIzOz",
        "outputId": "8eb9c1df-475b-4a13-8293-89e721fcda27"
      },
      "execution_count": 38,
      "outputs": [
        {
          "output_type": "stream",
          "name": "stdout",
          "text": [
            "Available columns:\n",
            "Index(['Country code', 'Country name',  'Series code',  'Series name',\n",
            "              'SCALE',     'Decimals',           1990,           1991,\n",
            "                 1992,           1993,           1994,           1995,\n",
            "                 1996,           1997,           1998,           1999,\n",
            "                 2000,           2001,           2002,           2003,\n",
            "                 2004,           2005,           2006,           2007,\n",
            "                 2008,           2009,           2010,           2011],\n",
            "      dtype='object')\n"
          ]
        }
      ]
    },
    {
      "cell_type": "code",
      "source": [
        "print(\"Column data types:\")\n",
        "print(data_orig.dtypes)"
      ],
      "metadata": {
        "colab": {
          "base_uri": "https://localhost:8080/"
        },
        "id": "Vv2T3ujgI24r",
        "outputId": "61501bc7-ffa2-426b-ed06-26b752925dbe"
      },
      "execution_count": 39,
      "outputs": [
        {
          "output_type": "stream",
          "name": "stdout",
          "text": [
            "Column data types:\n",
            "Country code    object\n",
            "Country name    object\n",
            "Series code     object\n",
            "Series name     object\n",
            "SCALE           object\n",
            "Decimals        object\n",
            "1990            object\n",
            "1991            object\n",
            "1992            object\n",
            "1993            object\n",
            "1994            object\n",
            "1995            object\n",
            "1996            object\n",
            "1997            object\n",
            "1998            object\n",
            "1999            object\n",
            "2000            object\n",
            "2001            object\n",
            "2002            object\n",
            "2003            object\n",
            "2004            object\n",
            "2005            object\n",
            "2006            object\n",
            "2007            object\n",
            "2008            object\n",
            "2009            object\n",
            "2010            object\n",
            "2011            object\n",
            "dtype: object\n"
          ]
        }
      ]
    },
    {
      "cell_type": "code",
      "source": [
        "print(\"Overview of the first 5 rows:\")\n",
        "print(data_orig.head())"
      ],
      "metadata": {
        "colab": {
          "base_uri": "https://localhost:8080/"
        },
        "id": "TPNfnWfvI-F4",
        "outputId": "97abf4fa-cd40-4a30-d6b3-3c82358b3656"
      },
      "execution_count": 40,
      "outputs": [
        {
          "output_type": "stream",
          "name": "stdout",
          "text": [
            "Overview of the first 5 rows:\n",
            "  Country code Country name     Series code  \\\n",
            "0          ABW        Aruba  AG.LND.EL5M.ZS   \n",
            "1          ADO      Andorra  AG.LND.EL5M.ZS   \n",
            "2          AFG  Afghanistan  AG.LND.EL5M.ZS   \n",
            "3          AGO       Angola  AG.LND.EL5M.ZS   \n",
            "4          ALB      Albania  AG.LND.EL5M.ZS   \n",
            "\n",
            "                           Series name SCALE Decimals      1990 1991 1992  \\\n",
            "0  Land area below 5m (% of land area)     0        1  29.57481   ..   ..   \n",
            "1  Land area below 5m (% of land area)     0        1         0   ..   ..   \n",
            "2  Land area below 5m (% of land area)     0        1         0   ..   ..   \n",
            "3  Land area below 5m (% of land area)     0        1  0.208235   ..   ..   \n",
            "4  Land area below 5m (% of land area)     0        1  4.967875   ..   ..   \n",
            "\n",
            "  1993  ... 2002 2003 2004 2005 2006 2007 2008 2009 2010 2011  \n",
            "0   ..  ...   ..   ..   ..   ..   ..   ..   ..   ..   ..   ..  \n",
            "1   ..  ...   ..   ..   ..   ..   ..   ..   ..   ..   ..   ..  \n",
            "2   ..  ...   ..   ..   ..   ..   ..   ..   ..   ..   ..   ..  \n",
            "3   ..  ...   ..   ..   ..   ..   ..   ..   ..   ..   ..   ..  \n",
            "4   ..  ...   ..   ..   ..   ..   ..   ..   ..   ..   ..   ..  \n",
            "\n",
            "[5 rows x 28 columns]\n"
          ]
        }
      ]
    },
    {
      "cell_type": "code",
      "source": [
        "print(\"Descriptive statistics of the columns:\")\n",
        "print(data_orig.describe())"
      ],
      "metadata": {
        "colab": {
          "base_uri": "https://localhost:8080/"
        },
        "id": "y1s6tMgmJAwf",
        "outputId": "4b9238d7-0ac1-4a2d-9adc-734900bc4c1d"
      },
      "execution_count": 41,
      "outputs": [
        {
          "output_type": "stream",
          "name": "stdout",
          "text": [
            "Descriptive statistics of the columns:\n",
            "       Country code Country name     Series code  \\\n",
            "count         13512        13512           13512   \n",
            "unique          233          233              58   \n",
            "top             ABW        Aruba  AG.LND.EL5M.ZS   \n",
            "freq             58           58             233   \n",
            "\n",
            "                                Series name  SCALE  Decimals   1990   1991  \\\n",
            "count                                 13512  13512     13512  10017  10017   \n",
            "unique                                   58      2         3   4355   3398   \n",
            "top     Land area below 5m (% of land area)      0         1     ..     ..   \n",
            "freq                                    233  10017      5823   5163   6520   \n",
            "\n",
            "         1992   1993  ...   2002   2003   2004   2005   2006   2007   2008  \\\n",
            "count   10017  10017  ...  10017  10017  10017  10017  10017  10017  10017   \n",
            "unique   3523   3583  ...   3877   3869   4007   4484   4008   4047   4080   \n",
            "top        ..     ..  ...     ..     ..     ..     ..     ..     ..     ..   \n",
            "freq     6364   6300  ...   5960   5974   5792   4933   5781   5769   5414   \n",
            "\n",
            "         2009   2010   2011  \n",
            "count   10017  10017  12382  \n",
            "unique   3506   2164   1434  \n",
            "top        ..     ..     ..  \n",
            "freq     6256   7685  10244  \n",
            "\n",
            "[4 rows x 28 columns]\n"
          ]
        }
      ]
    },
    {
      "cell_type": "code",
      "source": [
        "print(data_orig['Series name'].unique())"
      ],
      "metadata": {
        "colab": {
          "base_uri": "https://localhost:8080/"
        },
        "id": "_Um-K2x_JDhf",
        "outputId": "13872241-f5a3-4290-c7b9-7670761dcb07"
      },
      "execution_count": 42,
      "outputs": [
        {
          "output_type": "stream",
          "name": "stdout",
          "text": [
            "['Land area below 5m (% of land area)'\n",
            " 'Agricultural land under irrigation (% of total ag. land)'\n",
            " 'Cereal yield (kg per hectare)'\n",
            " 'Foreign direct investment, net inflows (% of GDP)'\n",
            " 'Access to electricity (% of total population)'\n",
            " 'Energy use per units of GDP (kg oil eq./$1,000 of 2005 PPP $)'\n",
            " 'Energy use per capita (kilograms of oil equivalent)'\n",
            " 'CO2 emissions, total (KtCO2)' 'CO2 emissions per capita (metric tons)'\n",
            " 'CO2 emissions per units of GDP (kg/$1,000 of 2005 PPP $)'\n",
            " 'Other GHG emissions, total (KtCO2e)'\n",
            " 'Methane (CH4) emissions, total (KtCO2e)'\n",
            " 'Nitrous oxide (N2O) emissions, total (KtCO2e)'\n",
            " 'Annex-I emissions reduction target'\n",
            " 'Disaster risk reduction progress score (1-5 scale; 5=best)'\n",
            " 'GHG net emissions/removals by LUCF (MtCO2e)'\n",
            " 'Hosted Clean Development Mechanism (CDM) projects'\n",
            " 'Hosted Joint Implementation (JI) projects'\n",
            " 'Average annual precipitation (1961-1990, mm)'\n",
            " 'Issued Certified Emission Reductions (CERs) from CDM (thousands)'\n",
            " 'Issued Emission Reduction Units (ERUs) from JI (thousands)'\n",
            " 'Droughts, floods, extreme temps (% pop. avg. 1990-2009)'\n",
            " 'Average daily min/max temperature (1961-1990, Celsius)'\n",
            " 'NAMA submission' 'NAPA submission'\n",
            " 'Latest UNFCCC national communication'\n",
            " 'Projected annual temperature change (2045-2065, Celsius)'\n",
            " 'Projected change in annual cool days/cold nights'\n",
            " 'Projected change in annual hot days/warm nights'\n",
            " 'Projected annual precipitation change (2045-2065, mm)'\n",
            " 'Renewable energy target' 'Population below 5m (% of total)'\n",
            " 'Population in urban agglomerations >1million (%)'\n",
            " 'Annual freshwater withdrawals (% of internal resources)'\n",
            " 'Nationally terrestrial protected areas (% of total land area)'\n",
            " 'Ease of doing business (ranking 1-183; 1=best)'\n",
            " 'Invest. in energy w/ private participation ($)'\n",
            " 'Invest. in telecoms w/ private participation ($)'\n",
            " 'Invest. in transport w/ private participation ($)'\n",
            " 'Invest. in water/sanit. w/ private participation ($)'\n",
            " 'Public sector mgmt & institutions avg. (1-6 scale; 6=best)'\n",
            " 'Paved roads (% of total roads)' 'GDP ($)' 'GNI per capita (Atlas $)'\n",
            " 'Ratio of girls to boys in primary & secondary school (%)'\n",
            " 'Primary completion rate, total (% of relevant age group)'\n",
            " 'Under-five mortality rate (per 1,000)'\n",
            " 'Access to improved water source (% of total pop.)'\n",
            " 'Nurses and midwives (per 1,000 people)' 'Physicians (per 1,000 people)'\n",
            " 'Malaria incidence rate (per 100,000 people)'\n",
            " 'Access to improved sanitation (% of total pop.)'\n",
            " 'Child malnutrition, underweight (% of under age 5)'\n",
            " 'Population living below $1.25 a day (% of total)'\n",
            " 'Population growth (annual %)' 'Population'\n",
            " 'Urban population growth (annual %)' 'Urban population']\n"
          ]
        }
      ]
    },
    {
      "cell_type": "code",
      "source": [
        "print(data_orig['Series code'].unique())"
      ],
      "metadata": {
        "colab": {
          "base_uri": "https://localhost:8080/"
        },
        "id": "b1inRpeTJEPJ",
        "outputId": "08595aa7-d394-4105-aed8-4bec99c37f63"
      },
      "execution_count": 43,
      "outputs": [
        {
          "output_type": "stream",
          "name": "stdout",
          "text": [
            "['AG.LND.EL5M.ZS' 'AG.LND.IRIG.AG.ZS' 'AG.YLD.CREL.KG'\n",
            " 'BX.KLT.DINV.WD.GD.ZS' 'EG.ELC.ACCS.ZS' 'EG.USE.COMM.GD.PP.KD'\n",
            " 'EG.USE.PCAP.KG.OE' 'EN.ATM.CO2E.KT' 'EN.ATM.CO2E.PC'\n",
            " 'EN.ATM.CO2E.PP.GD.KD' 'EN.ATM.GHGO.KT.CE' 'EN.ATM.METH.KT.CE'\n",
            " 'EN.ATM.NOXE.KT.CE' 'EN.CLC.AERT' 'EN.CLC.DRSK.XQ' 'EN.CLC.GHGR.MT.CE'\n",
            " 'EN.CLC.HCDM' 'EN.CLC.HJIP' 'EN.CLC.HPPT.MM' 'EN.CLC.ICER' 'EN.CLC.IERU'\n",
            " 'EN.CLC.MDAT.ZS' 'EN.CLC.MMDT.C' 'EN.CLC.NAMA' 'EN.CLC.NAPA'\n",
            " 'EN.CLC.NCOM' 'EN.CLC.PCAT.C' 'EN.CLC.PCCC' 'EN.CLC.PCHW'\n",
            " 'EN.CLC.PCPT.MM' 'EN.CLC.RNET' 'EN.POP.EL5M.ZS' 'EN.URB.MCTY.TL.ZS'\n",
            " 'ER.H2O.FWTL.ZS' 'ER.LND.PTLD.ZS' 'IC.BUS.EASE.XQ' 'IE.PPI.ENGY.CD'\n",
            " 'IE.PPI.TELE.CD' 'IE.PPI.TRAN.CD' 'IE.PPI.WATR.CD' 'IQ.CPA.PUBS.XQ'\n",
            " 'IS.ROD.PAVE.ZS' 'NY.GDP.MKTP.CD' 'NY.GNP.PCAP.CD' 'SE.ENR.PRSC.FM.ZS'\n",
            " 'SE.PRM.CMPT.ZS' 'SH.DYN.MORT' 'SH.H2O.SAFE.ZS' 'SH.MED.NUMW.P3'\n",
            " 'SH.MED.PHYS.ZS' 'SH.MLR.INCD' 'SH.STA.ACSN' 'SH.STA.MALN.ZS'\n",
            " 'SI.POV.DDAY' 'SP.POP.GROW' 'SP.POP.TOTL' 'SP.URB.GROW' 'SP.URB.TOTL']\n"
          ]
        }
      ]
    },
    {
      "cell_type": "code",
      "source": [
        "print(data_orig['SCALE'].unique())"
      ],
      "metadata": {
        "colab": {
          "base_uri": "https://localhost:8080/"
        },
        "id": "kCvzIfK2JG5f",
        "outputId": "33a41bb8-8da8-4a81-d6f4-b0401ffe1e27"
      },
      "execution_count": 44,
      "outputs": [
        {
          "output_type": "stream",
          "name": "stdout",
          "text": [
            "[0 'Text']\n"
          ]
        }
      ]
    },
    {
      "cell_type": "code",
      "source": [
        "print(data_orig['Decimals'].unique())"
      ],
      "metadata": {
        "colab": {
          "base_uri": "https://localhost:8080/"
        },
        "id": "dqQvcrB1JPgp",
        "outputId": "d04f4206-b828-454d-db4e-d7ce6a882fff"
      },
      "execution_count": 45,
      "outputs": [
        {
          "output_type": "stream",
          "name": "stdout",
          "text": [
            "[1 0 'Text']\n"
          ]
        }
      ]
    },
    {
      "cell_type": "code",
      "source": [
        "print(data_orig[data_orig['SCALE'] == 'Text'])"
      ],
      "metadata": {
        "colab": {
          "base_uri": "https://localhost:8080/"
        },
        "id": "aWOC6pdxJSEW",
        "outputId": "7586b8d0-f912-4354-ed85-85b2eda08895"
      },
      "execution_count": 46,
      "outputs": [
        {
          "output_type": "stream",
          "name": "stdout",
          "text": [
            "     Country code      Country name  Series code  \\\n",
            "3029          ABW             Aruba  EN.CLC.AERT   \n",
            "3030          ADO           Andorra  EN.CLC.AERT   \n",
            "3031          AFG       Afghanistan  EN.CLC.AERT   \n",
            "3032          AGO            Angola  EN.CLC.AERT   \n",
            "3033          ALB           Albania  EN.CLC.AERT   \n",
            "...           ...               ...          ...   \n",
            "7218          YEM       Yemen, Rep.  EN.CLC.RNET   \n",
            "7219          ZAF      South Africa  EN.CLC.RNET   \n",
            "7220          ZAR  Congo, Dem. Rep.  EN.CLC.RNET   \n",
            "7221          ZMB            Zambia  EN.CLC.RNET   \n",
            "7222          ZWE          Zimbabwe  EN.CLC.RNET   \n",
            "\n",
            "                             Series name SCALE Decimals 1990 1991 1992 1993  \\\n",
            "3029  Annex-I emissions reduction target  Text     Text  NaN  NaN  NaN  NaN   \n",
            "3030  Annex-I emissions reduction target  Text     Text  NaN  NaN  NaN  NaN   \n",
            "3031  Annex-I emissions reduction target  Text     Text  NaN  NaN  NaN  NaN   \n",
            "3032  Annex-I emissions reduction target  Text     Text  NaN  NaN  NaN  NaN   \n",
            "3033  Annex-I emissions reduction target  Text     Text  NaN  NaN  NaN  NaN   \n",
            "...                                  ...   ...      ...  ...  ...  ...  ...   \n",
            "7218             Renewable energy target  Text     Text  NaN  NaN  NaN  NaN   \n",
            "7219             Renewable energy target  Text     Text  NaN  NaN  NaN  NaN   \n",
            "7220             Renewable energy target  Text     Text  NaN  NaN  NaN  NaN   \n",
            "7221             Renewable energy target  Text     Text  NaN  NaN  NaN  NaN   \n",
            "7222             Renewable energy target  Text     Text  NaN  NaN  NaN  NaN   \n",
            "\n",
            "      ... 2002 2003 2004 2005 2006 2007 2008 2009 2010 2011  \n",
            "3029  ...  NaN  NaN  NaN  NaN  NaN  NaN  NaN  NaN  NaN  NaN  \n",
            "3030  ...  NaN  NaN  NaN  NaN  NaN  NaN  NaN  NaN  NaN  NaN  \n",
            "3031  ...  NaN  NaN  NaN  NaN  NaN  NaN  NaN  NaN  NaN  NaN  \n",
            "3032  ...  NaN  NaN  NaN  NaN  NaN  NaN  NaN  NaN  NaN  NaN  \n",
            "3033  ...  NaN  NaN  NaN  NaN  NaN  NaN  NaN  NaN  NaN  NaN  \n",
            "...   ...  ...  ...  ...  ...  ...  ...  ...  ...  ...  ...  \n",
            "7218  ...  NaN  NaN  NaN  NaN  NaN  NaN  NaN  NaN  NaN   ..  \n",
            "7219  ...  NaN  NaN  NaN  NaN  NaN  NaN  NaN  NaN  NaN  Yes  \n",
            "7220  ...  NaN  NaN  NaN  NaN  NaN  NaN  NaN  NaN  NaN   ..  \n",
            "7221  ...  NaN  NaN  NaN  NaN  NaN  NaN  NaN  NaN  NaN   ..  \n",
            "7222  ...  NaN  NaN  NaN  NaN  NaN  NaN  NaN  NaN  NaN   ..  \n",
            "\n",
            "[3495 rows x 28 columns]\n"
          ]
        }
      ]
    },
    {
      "cell_type": "code",
      "source": [
        "print(data_orig[data_orig['Decimals'] == 'Text'])"
      ],
      "metadata": {
        "colab": {
          "base_uri": "https://localhost:8080/"
        },
        "id": "dAHw9eXIJSkH",
        "outputId": "abe6d324-e812-4b45-f5ab-91db910369d7"
      },
      "execution_count": 47,
      "outputs": [
        {
          "output_type": "stream",
          "name": "stdout",
          "text": [
            "     Country code      Country name  Series code  \\\n",
            "3029          ABW             Aruba  EN.CLC.AERT   \n",
            "3030          ADO           Andorra  EN.CLC.AERT   \n",
            "3031          AFG       Afghanistan  EN.CLC.AERT   \n",
            "3032          AGO            Angola  EN.CLC.AERT   \n",
            "3033          ALB           Albania  EN.CLC.AERT   \n",
            "...           ...               ...          ...   \n",
            "7218          YEM       Yemen, Rep.  EN.CLC.RNET   \n",
            "7219          ZAF      South Africa  EN.CLC.RNET   \n",
            "7220          ZAR  Congo, Dem. Rep.  EN.CLC.RNET   \n",
            "7221          ZMB            Zambia  EN.CLC.RNET   \n",
            "7222          ZWE          Zimbabwe  EN.CLC.RNET   \n",
            "\n",
            "                             Series name SCALE Decimals 1990 1991 1992 1993  \\\n",
            "3029  Annex-I emissions reduction target  Text     Text  NaN  NaN  NaN  NaN   \n",
            "3030  Annex-I emissions reduction target  Text     Text  NaN  NaN  NaN  NaN   \n",
            "3031  Annex-I emissions reduction target  Text     Text  NaN  NaN  NaN  NaN   \n",
            "3032  Annex-I emissions reduction target  Text     Text  NaN  NaN  NaN  NaN   \n",
            "3033  Annex-I emissions reduction target  Text     Text  NaN  NaN  NaN  NaN   \n",
            "...                                  ...   ...      ...  ...  ...  ...  ...   \n",
            "7218             Renewable energy target  Text     Text  NaN  NaN  NaN  NaN   \n",
            "7219             Renewable energy target  Text     Text  NaN  NaN  NaN  NaN   \n",
            "7220             Renewable energy target  Text     Text  NaN  NaN  NaN  NaN   \n",
            "7221             Renewable energy target  Text     Text  NaN  NaN  NaN  NaN   \n",
            "7222             Renewable energy target  Text     Text  NaN  NaN  NaN  NaN   \n",
            "\n",
            "      ... 2002 2003 2004 2005 2006 2007 2008 2009 2010 2011  \n",
            "3029  ...  NaN  NaN  NaN  NaN  NaN  NaN  NaN  NaN  NaN  NaN  \n",
            "3030  ...  NaN  NaN  NaN  NaN  NaN  NaN  NaN  NaN  NaN  NaN  \n",
            "3031  ...  NaN  NaN  NaN  NaN  NaN  NaN  NaN  NaN  NaN  NaN  \n",
            "3032  ...  NaN  NaN  NaN  NaN  NaN  NaN  NaN  NaN  NaN  NaN  \n",
            "3033  ...  NaN  NaN  NaN  NaN  NaN  NaN  NaN  NaN  NaN  NaN  \n",
            "...   ...  ...  ...  ...  ...  ...  ...  ...  ...  ...  ...  \n",
            "7218  ...  NaN  NaN  NaN  NaN  NaN  NaN  NaN  NaN  NaN   ..  \n",
            "7219  ...  NaN  NaN  NaN  NaN  NaN  NaN  NaN  NaN  NaN  Yes  \n",
            "7220  ...  NaN  NaN  NaN  NaN  NaN  NaN  NaN  NaN  NaN   ..  \n",
            "7221  ...  NaN  NaN  NaN  NaN  NaN  NaN  NaN  NaN  NaN   ..  \n",
            "7222  ...  NaN  NaN  NaN  NaN  NaN  NaN  NaN  NaN  NaN   ..  \n",
            "\n",
            "[3495 rows x 28 columns]\n"
          ]
        }
      ]
    },
    {
      "cell_type": "code",
      "source": [
        "# Data cleaning begins\n",
        "data_clean = data_orig.copy()\n",
        "print(\"Original number of rows:\")\n",
        "print(data_clean.shape[0])\n",
        "\n",
        "# Filter out text scale rows\n",
        "data_clean = data_clean[data_clean['SCALE'] != 'Text']\n",
        "print(\"Current number of rows:\")\n",
        "print(data_clean.shape[0])"
      ],
      "metadata": {
        "colab": {
          "base_uri": "https://localhost:8080/"
        },
        "id": "8qTfviHlJpw7",
        "outputId": "72cd8b98-0bae-42bc-ccde-491a59de9403"
      },
      "execution_count": 48,
      "outputs": [
        {
          "output_type": "stream",
          "name": "stdout",
          "text": [
            "Original number of rows:\n",
            "13512\n",
            "Current number of rows:\n",
            "10017\n"
          ]
        }
      ]
    },
    {
      "cell_type": "code",
      "source": [
        "print(\"Original number of columns:\")\n",
        "print(data_clean.shape[1])\n",
        "\n",
        "# Drop irrelevant columns\n",
        "drop_cols = ['Country name', 'Series code', 'SCALE', 'Decimals']\n",
        "data_clean.drop(columns=drop_cols, inplace=True)\n",
        "print(\"Current number of columns:\")\n",
        "print(data_clean.shape[1])"
      ],
      "metadata": {
        "colab": {
          "base_uri": "https://localhost:8080/"
        },
        "id": "XqUy9CMkJtd_",
        "outputId": "bb9a4dcd-ff4c-4b7d-d4f9-7f21333d02d3"
      },
      "execution_count": 49,
      "outputs": [
        {
          "output_type": "stream",
          "name": "stdout",
          "text": [
            "Original number of columns:\n",
            "28\n",
            "Current number of columns:\n",
            "24\n"
          ]
        }
      ]
    },
    {
      "cell_type": "code",
      "source": [
        "# Replace missing string indicators\n",
        "data_clean.iloc[:, 2:] = data_clean.iloc[:, 2:].replace({'': np.nan, '..': np.nan})"
      ],
      "metadata": {
        "colab": {
          "base_uri": "https://localhost:8080/"
        },
        "id": "7H6YXt_LJ-Li",
        "outputId": "d72fd458-33fd-4f84-9886-f3e8e72b6f4f"
      },
      "execution_count": 50,
      "outputs": [
        {
          "output_type": "stream",
          "name": "stderr",
          "text": [
            "/tmp/ipython-input-50-3373623498.py:2: FutureWarning: Downcasting behavior in `replace` is deprecated and will be removed in a future version. To retain the old behavior, explicitly call `result.infer_objects(copy=False)`. To opt-in to the future behavior, set `pd.set_option('future.no_silent_downcasting', True)`\n",
            "  data_clean.iloc[:, 2:] = data_clean.iloc[:, 2:].replace({'': np.nan, '..': np.nan})\n"
          ]
        }
      ]
    },
    {
      "cell_type": "code",
      "source": [
        "# Convert numeric data while preserving text columns\n",
        "data_clean2 = data_clean.applymap(lambda x: pd.to_numeric(x, errors='ignore'))\n",
        "print(\"Print the column data types after transformation:\")\n",
        "print(data_clean2.dtypes)"
      ],
      "metadata": {
        "colab": {
          "base_uri": "https://localhost:8080/"
        },
        "id": "i_URIzMWJ_IY",
        "outputId": "991ccf6f-7107-4315-bc43-5fea5cf29b12"
      },
      "execution_count": 20,
      "outputs": [
        {
          "output_type": "stream",
          "name": "stderr",
          "text": [
            "/tmp/ipython-input-20-3131153868.py:2: FutureWarning: DataFrame.applymap has been deprecated. Use DataFrame.map instead.\n",
            "  data_clean2 = data_clean.applymap(lambda x: pd.to_numeric(x, errors='ignore'))\n",
            "/tmp/ipython-input-20-3131153868.py:2: FutureWarning: errors='ignore' is deprecated and will raise in a future version. Use to_numeric without passing `errors` and catch exceptions explicitly instead\n",
            "  data_clean2 = data_clean.applymap(lambda x: pd.to_numeric(x, errors='ignore'))\n",
            "/tmp/ipython-input-20-3131153868.py:2: FutureWarning: errors='ignore' is deprecated and will raise in a future version. Use to_numeric without passing `errors` and catch exceptions explicitly instead\n",
            "  data_clean2 = data_clean.applymap(lambda x: pd.to_numeric(x, errors='ignore'))\n",
            "/tmp/ipython-input-20-3131153868.py:2: FutureWarning: errors='ignore' is deprecated and will raise in a future version. Use to_numeric without passing `errors` and catch exceptions explicitly instead\n",
            "  data_clean2 = data_clean.applymap(lambda x: pd.to_numeric(x, errors='ignore'))\n",
            "/tmp/ipython-input-20-3131153868.py:2: FutureWarning: errors='ignore' is deprecated and will raise in a future version. Use to_numeric without passing `errors` and catch exceptions explicitly instead\n",
            "  data_clean2 = data_clean.applymap(lambda x: pd.to_numeric(x, errors='ignore'))\n"
          ]
        },
        {
          "output_type": "stream",
          "name": "stdout",
          "text": [
            "Print the column data types after transformation:\n",
            "Country code     object\n",
            "Series name      object\n",
            "1990            float64\n",
            "1991            float64\n",
            "1992            float64\n",
            "1993            float64\n",
            "1994            float64\n",
            "1995            float64\n",
            "1996            float64\n",
            "1997            float64\n",
            "1998            float64\n",
            "1999            float64\n",
            "2000            float64\n",
            "2001            float64\n",
            "2002            float64\n",
            "2003            float64\n",
            "2004            float64\n",
            "2005            float64\n",
            "2006            float64\n",
            "2007            float64\n",
            "2008            float64\n",
            "2009            float64\n",
            "2010            float64\n",
            "2011            float64\n",
            "dtype: object\n"
          ]
        }
      ]
    },
    {
      "cell_type": "code",
      "source": [
        "# Rename Series name values to shorter identifiers\n",
        "chosen_vars = {\n",
        "    'Cereal yield (kg per hectare)': 'cereal_yield',\n",
        "    'Foreign direct investment, net inflows (% of GDP)': 'fdi_perc_gdp',\n",
        "    'Access to electricity (% of total population)': 'elec_access_perc',\n",
        "    'Energy use per units of GDP (kg oil eq./$1,000 of 2005 PPP $)': 'en_per_gdp',\n",
        "    'Energy use per capita (kilograms of oil equivalent)': 'en_per_cap',\n",
        "    'CO2 emissions, total (KtCO2)': 'co2_ttl',\n",
        "    'CO2 emissions per capita (metric tons)': 'co2_per_cap',\n",
        "    'CO2 emissions per units of GDP (kg/$1,000 of 2005 PPP $)': 'co2_per_gdp',\n",
        "    'Other GHG emissions, total (KtCO2e)': 'other_ghg_ttl',\n",
        "    'Methane (CH4) emissions, total (KtCO2e)': 'ch4_ttl',\n",
        "    'Nitrous oxide (N2O) emissions, total (KtCO2e)': 'n2o_ttl',\n",
        "    'Droughts, floods, extreme temps (% pop. avg. 1990-2009)': 'nat_emerg',\n",
        "    'Population in urban agglomerations >1million (%)': 'pop_urb_aggl_perc',\n",
        "    'Nationally terrestrial protected areas (% of total land area)': 'prot_area_perc',\n",
        "    'GDP ($)': 'gdp',\n",
        "    'GNI per capita (Atlas $)': 'gni_per_cap',\n",
        "    'Under-five mortality rate (per 1,000)': 'under_5_mort_rate',\n",
        "    'Population growth (annual %)': 'pop_growth_perc',\n",
        "    'Population': 'pop',\n",
        "    'Urban population growth (annual %)': 'urb_pop_growth_perc',\n",
        "    'Urban population': 'urb_pop'\n",
        "}\n",
        "\n",
        "data_clean2['Series name'] = data_clean2['Series name'].replace(chosen_vars)"
      ],
      "metadata": {
        "id": "DGqEdTESKEN3"
      },
      "execution_count": 21,
      "outputs": []
    },
    {
      "cell_type": "code",
      "source": [
        "data_clean2.head()"
      ],
      "metadata": {
        "colab": {
          "base_uri": "https://localhost:8080/",
          "height": 695
        },
        "id": "0aMDlSM_KYT9",
        "outputId": "f9cb1743-4b37-4d3c-9de7-da74d9ebab48"
      },
      "execution_count": 22,
      "outputs": [
        {
          "output_type": "execute_result",
          "data": {
            "text/plain": [
              "  Country code                          Series name       1990  1991  1992  \\\n",
              "0          ABW  Land area below 5m (% of land area)  29.574810   NaN   NaN   \n",
              "1          ADO  Land area below 5m (% of land area)   0.000000   NaN   NaN   \n",
              "2          AFG  Land area below 5m (% of land area)   0.000000   NaN   NaN   \n",
              "3          AGO  Land area below 5m (% of land area)   0.208235   NaN   NaN   \n",
              "4          ALB  Land area below 5m (% of land area)   4.967875   NaN   NaN   \n",
              "\n",
              "   1993  1994  1995  1996  1997  ...  2002  2003  2004  2005  2006  2007  \\\n",
              "0   NaN   NaN   NaN   NaN   NaN  ...   NaN   NaN   NaN   NaN   NaN   NaN   \n",
              "1   NaN   NaN   NaN   NaN   NaN  ...   NaN   NaN   NaN   NaN   NaN   NaN   \n",
              "2   NaN   NaN   NaN   NaN   NaN  ...   NaN   NaN   NaN   NaN   NaN   NaN   \n",
              "3   NaN   NaN   NaN   NaN   NaN  ...   NaN   NaN   NaN   NaN   NaN   NaN   \n",
              "4   NaN   NaN   NaN   NaN   NaN  ...   NaN   NaN   NaN   NaN   NaN   NaN   \n",
              "\n",
              "   2008  2009  2010  2011  \n",
              "0   NaN   NaN   NaN   NaN  \n",
              "1   NaN   NaN   NaN   NaN  \n",
              "2   NaN   NaN   NaN   NaN  \n",
              "3   NaN   NaN   NaN   NaN  \n",
              "4   NaN   NaN   NaN   NaN  \n",
              "\n",
              "[5 rows x 24 columns]"
            ],
            "text/html": [
              "\n",
              "  <div id=\"df-a712acce-6714-47a3-a071-9ce204f0fda9\" class=\"colab-df-container\">\n",
              "    <div>\n",
              "<style scoped>\n",
              "    .dataframe tbody tr th:only-of-type {\n",
              "        vertical-align: middle;\n",
              "    }\n",
              "\n",
              "    .dataframe tbody tr th {\n",
              "        vertical-align: top;\n",
              "    }\n",
              "\n",
              "    .dataframe thead th {\n",
              "        text-align: right;\n",
              "    }\n",
              "</style>\n",
              "<table border=\"1\" class=\"dataframe\">\n",
              "  <thead>\n",
              "    <tr style=\"text-align: right;\">\n",
              "      <th></th>\n",
              "      <th>Country code</th>\n",
              "      <th>Series name</th>\n",
              "      <th>1990</th>\n",
              "      <th>1991</th>\n",
              "      <th>1992</th>\n",
              "      <th>1993</th>\n",
              "      <th>1994</th>\n",
              "      <th>1995</th>\n",
              "      <th>1996</th>\n",
              "      <th>1997</th>\n",
              "      <th>...</th>\n",
              "      <th>2002</th>\n",
              "      <th>2003</th>\n",
              "      <th>2004</th>\n",
              "      <th>2005</th>\n",
              "      <th>2006</th>\n",
              "      <th>2007</th>\n",
              "      <th>2008</th>\n",
              "      <th>2009</th>\n",
              "      <th>2010</th>\n",
              "      <th>2011</th>\n",
              "    </tr>\n",
              "  </thead>\n",
              "  <tbody>\n",
              "    <tr>\n",
              "      <th>0</th>\n",
              "      <td>ABW</td>\n",
              "      <td>Land area below 5m (% of land area)</td>\n",
              "      <td>29.574810</td>\n",
              "      <td>NaN</td>\n",
              "      <td>NaN</td>\n",
              "      <td>NaN</td>\n",
              "      <td>NaN</td>\n",
              "      <td>NaN</td>\n",
              "      <td>NaN</td>\n",
              "      <td>NaN</td>\n",
              "      <td>...</td>\n",
              "      <td>NaN</td>\n",
              "      <td>NaN</td>\n",
              "      <td>NaN</td>\n",
              "      <td>NaN</td>\n",
              "      <td>NaN</td>\n",
              "      <td>NaN</td>\n",
              "      <td>NaN</td>\n",
              "      <td>NaN</td>\n",
              "      <td>NaN</td>\n",
              "      <td>NaN</td>\n",
              "    </tr>\n",
              "    <tr>\n",
              "      <th>1</th>\n",
              "      <td>ADO</td>\n",
              "      <td>Land area below 5m (% of land area)</td>\n",
              "      <td>0.000000</td>\n",
              "      <td>NaN</td>\n",
              "      <td>NaN</td>\n",
              "      <td>NaN</td>\n",
              "      <td>NaN</td>\n",
              "      <td>NaN</td>\n",
              "      <td>NaN</td>\n",
              "      <td>NaN</td>\n",
              "      <td>...</td>\n",
              "      <td>NaN</td>\n",
              "      <td>NaN</td>\n",
              "      <td>NaN</td>\n",
              "      <td>NaN</td>\n",
              "      <td>NaN</td>\n",
              "      <td>NaN</td>\n",
              "      <td>NaN</td>\n",
              "      <td>NaN</td>\n",
              "      <td>NaN</td>\n",
              "      <td>NaN</td>\n",
              "    </tr>\n",
              "    <tr>\n",
              "      <th>2</th>\n",
              "      <td>AFG</td>\n",
              "      <td>Land area below 5m (% of land area)</td>\n",
              "      <td>0.000000</td>\n",
              "      <td>NaN</td>\n",
              "      <td>NaN</td>\n",
              "      <td>NaN</td>\n",
              "      <td>NaN</td>\n",
              "      <td>NaN</td>\n",
              "      <td>NaN</td>\n",
              "      <td>NaN</td>\n",
              "      <td>...</td>\n",
              "      <td>NaN</td>\n",
              "      <td>NaN</td>\n",
              "      <td>NaN</td>\n",
              "      <td>NaN</td>\n",
              "      <td>NaN</td>\n",
              "      <td>NaN</td>\n",
              "      <td>NaN</td>\n",
              "      <td>NaN</td>\n",
              "      <td>NaN</td>\n",
              "      <td>NaN</td>\n",
              "    </tr>\n",
              "    <tr>\n",
              "      <th>3</th>\n",
              "      <td>AGO</td>\n",
              "      <td>Land area below 5m (% of land area)</td>\n",
              "      <td>0.208235</td>\n",
              "      <td>NaN</td>\n",
              "      <td>NaN</td>\n",
              "      <td>NaN</td>\n",
              "      <td>NaN</td>\n",
              "      <td>NaN</td>\n",
              "      <td>NaN</td>\n",
              "      <td>NaN</td>\n",
              "      <td>...</td>\n",
              "      <td>NaN</td>\n",
              "      <td>NaN</td>\n",
              "      <td>NaN</td>\n",
              "      <td>NaN</td>\n",
              "      <td>NaN</td>\n",
              "      <td>NaN</td>\n",
              "      <td>NaN</td>\n",
              "      <td>NaN</td>\n",
              "      <td>NaN</td>\n",
              "      <td>NaN</td>\n",
              "    </tr>\n",
              "    <tr>\n",
              "      <th>4</th>\n",
              "      <td>ALB</td>\n",
              "      <td>Land area below 5m (% of land area)</td>\n",
              "      <td>4.967875</td>\n",
              "      <td>NaN</td>\n",
              "      <td>NaN</td>\n",
              "      <td>NaN</td>\n",
              "      <td>NaN</td>\n",
              "      <td>NaN</td>\n",
              "      <td>NaN</td>\n",
              "      <td>NaN</td>\n",
              "      <td>...</td>\n",
              "      <td>NaN</td>\n",
              "      <td>NaN</td>\n",
              "      <td>NaN</td>\n",
              "      <td>NaN</td>\n",
              "      <td>NaN</td>\n",
              "      <td>NaN</td>\n",
              "      <td>NaN</td>\n",
              "      <td>NaN</td>\n",
              "      <td>NaN</td>\n",
              "      <td>NaN</td>\n",
              "    </tr>\n",
              "  </tbody>\n",
              "</table>\n",
              "<p>5 rows × 24 columns</p>\n",
              "</div>\n",
              "    <div class=\"colab-df-buttons\">\n",
              "\n",
              "  <div class=\"colab-df-container\">\n",
              "    <button class=\"colab-df-convert\" onclick=\"convertToInteractive('df-a712acce-6714-47a3-a071-9ce204f0fda9')\"\n",
              "            title=\"Convert this dataframe to an interactive table.\"\n",
              "            style=\"display:none;\">\n",
              "\n",
              "  <svg xmlns=\"http://www.w3.org/2000/svg\" height=\"24px\" viewBox=\"0 -960 960 960\">\n",
              "    <path d=\"M120-120v-720h720v720H120Zm60-500h600v-160H180v160Zm220 220h160v-160H400v160Zm0 220h160v-160H400v160ZM180-400h160v-160H180v160Zm440 0h160v-160H620v160ZM180-180h160v-160H180v160Zm440 0h160v-160H620v160Z\"/>\n",
              "  </svg>\n",
              "    </button>\n",
              "\n",
              "  <style>\n",
              "    .colab-df-container {\n",
              "      display:flex;\n",
              "      gap: 12px;\n",
              "    }\n",
              "\n",
              "    .colab-df-convert {\n",
              "      background-color: #E8F0FE;\n",
              "      border: none;\n",
              "      border-radius: 50%;\n",
              "      cursor: pointer;\n",
              "      display: none;\n",
              "      fill: #1967D2;\n",
              "      height: 32px;\n",
              "      padding: 0 0 0 0;\n",
              "      width: 32px;\n",
              "    }\n",
              "\n",
              "    .colab-df-convert:hover {\n",
              "      background-color: #E2EBFA;\n",
              "      box-shadow: 0px 1px 2px rgba(60, 64, 67, 0.3), 0px 1px 3px 1px rgba(60, 64, 67, 0.15);\n",
              "      fill: #174EA6;\n",
              "    }\n",
              "\n",
              "    .colab-df-buttons div {\n",
              "      margin-bottom: 4px;\n",
              "    }\n",
              "\n",
              "    [theme=dark] .colab-df-convert {\n",
              "      background-color: #3B4455;\n",
              "      fill: #D2E3FC;\n",
              "    }\n",
              "\n",
              "    [theme=dark] .colab-df-convert:hover {\n",
              "      background-color: #434B5C;\n",
              "      box-shadow: 0px 1px 3px 1px rgba(0, 0, 0, 0.15);\n",
              "      filter: drop-shadow(0px 1px 2px rgba(0, 0, 0, 0.3));\n",
              "      fill: #FFFFFF;\n",
              "    }\n",
              "  </style>\n",
              "\n",
              "    <script>\n",
              "      const buttonEl =\n",
              "        document.querySelector('#df-a712acce-6714-47a3-a071-9ce204f0fda9 button.colab-df-convert');\n",
              "      buttonEl.style.display =\n",
              "        google.colab.kernel.accessAllowed ? 'block' : 'none';\n",
              "\n",
              "      async function convertToInteractive(key) {\n",
              "        const element = document.querySelector('#df-a712acce-6714-47a3-a071-9ce204f0fda9');\n",
              "        const dataTable =\n",
              "          await google.colab.kernel.invokeFunction('convertToInteractive',\n",
              "                                                    [key], {});\n",
              "        if (!dataTable) return;\n",
              "\n",
              "        const docLinkHtml = 'Like what you see? Visit the ' +\n",
              "          '<a target=\"_blank\" href=https://colab.research.google.com/notebooks/data_table.ipynb>data table notebook</a>'\n",
              "          + ' to learn more about interactive tables.';\n",
              "        element.innerHTML = '';\n",
              "        dataTable['output_type'] = 'display_data';\n",
              "        await google.colab.output.renderOutput(dataTable, element);\n",
              "        const docLink = document.createElement('div');\n",
              "        docLink.innerHTML = docLinkHtml;\n",
              "        element.appendChild(docLink);\n",
              "      }\n",
              "    </script>\n",
              "  </div>\n",
              "\n",
              "\n",
              "    <div id=\"df-f200014f-273b-45a0-bc95-bc772709ce67\">\n",
              "      <button class=\"colab-df-quickchart\" onclick=\"quickchart('df-f200014f-273b-45a0-bc95-bc772709ce67')\"\n",
              "                title=\"Suggest charts\"\n",
              "                style=\"display:none;\">\n",
              "\n",
              "<svg xmlns=\"http://www.w3.org/2000/svg\" height=\"24px\"viewBox=\"0 0 24 24\"\n",
              "     width=\"24px\">\n",
              "    <g>\n",
              "        <path d=\"M19 3H5c-1.1 0-2 .9-2 2v14c0 1.1.9 2 2 2h14c1.1 0 2-.9 2-2V5c0-1.1-.9-2-2-2zM9 17H7v-7h2v7zm4 0h-2V7h2v10zm4 0h-2v-4h2v4z\"/>\n",
              "    </g>\n",
              "</svg>\n",
              "      </button>\n",
              "\n",
              "<style>\n",
              "  .colab-df-quickchart {\n",
              "      --bg-color: #E8F0FE;\n",
              "      --fill-color: #1967D2;\n",
              "      --hover-bg-color: #E2EBFA;\n",
              "      --hover-fill-color: #174EA6;\n",
              "      --disabled-fill-color: #AAA;\n",
              "      --disabled-bg-color: #DDD;\n",
              "  }\n",
              "\n",
              "  [theme=dark] .colab-df-quickchart {\n",
              "      --bg-color: #3B4455;\n",
              "      --fill-color: #D2E3FC;\n",
              "      --hover-bg-color: #434B5C;\n",
              "      --hover-fill-color: #FFFFFF;\n",
              "      --disabled-bg-color: #3B4455;\n",
              "      --disabled-fill-color: #666;\n",
              "  }\n",
              "\n",
              "  .colab-df-quickchart {\n",
              "    background-color: var(--bg-color);\n",
              "    border: none;\n",
              "    border-radius: 50%;\n",
              "    cursor: pointer;\n",
              "    display: none;\n",
              "    fill: var(--fill-color);\n",
              "    height: 32px;\n",
              "    padding: 0;\n",
              "    width: 32px;\n",
              "  }\n",
              "\n",
              "  .colab-df-quickchart:hover {\n",
              "    background-color: var(--hover-bg-color);\n",
              "    box-shadow: 0 1px 2px rgba(60, 64, 67, 0.3), 0 1px 3px 1px rgba(60, 64, 67, 0.15);\n",
              "    fill: var(--button-hover-fill-color);\n",
              "  }\n",
              "\n",
              "  .colab-df-quickchart-complete:disabled,\n",
              "  .colab-df-quickchart-complete:disabled:hover {\n",
              "    background-color: var(--disabled-bg-color);\n",
              "    fill: var(--disabled-fill-color);\n",
              "    box-shadow: none;\n",
              "  }\n",
              "\n",
              "  .colab-df-spinner {\n",
              "    border: 2px solid var(--fill-color);\n",
              "    border-color: transparent;\n",
              "    border-bottom-color: var(--fill-color);\n",
              "    animation:\n",
              "      spin 1s steps(1) infinite;\n",
              "  }\n",
              "\n",
              "  @keyframes spin {\n",
              "    0% {\n",
              "      border-color: transparent;\n",
              "      border-bottom-color: var(--fill-color);\n",
              "      border-left-color: var(--fill-color);\n",
              "    }\n",
              "    20% {\n",
              "      border-color: transparent;\n",
              "      border-left-color: var(--fill-color);\n",
              "      border-top-color: var(--fill-color);\n",
              "    }\n",
              "    30% {\n",
              "      border-color: transparent;\n",
              "      border-left-color: var(--fill-color);\n",
              "      border-top-color: var(--fill-color);\n",
              "      border-right-color: var(--fill-color);\n",
              "    }\n",
              "    40% {\n",
              "      border-color: transparent;\n",
              "      border-right-color: var(--fill-color);\n",
              "      border-top-color: var(--fill-color);\n",
              "    }\n",
              "    60% {\n",
              "      border-color: transparent;\n",
              "      border-right-color: var(--fill-color);\n",
              "    }\n",
              "    80% {\n",
              "      border-color: transparent;\n",
              "      border-right-color: var(--fill-color);\n",
              "      border-bottom-color: var(--fill-color);\n",
              "    }\n",
              "    90% {\n",
              "      border-color: transparent;\n",
              "      border-bottom-color: var(--fill-color);\n",
              "    }\n",
              "  }\n",
              "</style>\n",
              "\n",
              "      <script>\n",
              "        async function quickchart(key) {\n",
              "          const quickchartButtonEl =\n",
              "            document.querySelector('#' + key + ' button');\n",
              "          quickchartButtonEl.disabled = true;  // To prevent multiple clicks.\n",
              "          quickchartButtonEl.classList.add('colab-df-spinner');\n",
              "          try {\n",
              "            const charts = await google.colab.kernel.invokeFunction(\n",
              "                'suggestCharts', [key], {});\n",
              "          } catch (error) {\n",
              "            console.error('Error during call to suggestCharts:', error);\n",
              "          }\n",
              "          quickchartButtonEl.classList.remove('colab-df-spinner');\n",
              "          quickchartButtonEl.classList.add('colab-df-quickchart-complete');\n",
              "        }\n",
              "        (() => {\n",
              "          let quickchartButtonEl =\n",
              "            document.querySelector('#df-f200014f-273b-45a0-bc95-bc772709ce67 button');\n",
              "          quickchartButtonEl.style.display =\n",
              "            google.colab.kernel.accessAllowed ? 'block' : 'none';\n",
              "        })();\n",
              "      </script>\n",
              "    </div>\n",
              "\n",
              "    </div>\n",
              "  </div>\n"
            ],
            "application/vnd.google.colaboratory.intrinsic+json": {
              "type": "dataframe",
              "variable_name": "data_clean2"
            }
          },
          "metadata": {},
          "execution_count": 22
        }
      ]
    },
    {
      "cell_type": "code",
      "source": [
        "# Melt and combine all variables\n",
        "chosen_cols = list(chosen_vars.values())\n",
        "frame_list = []\n",
        "\n",
        "for variable in chosen_cols:\n",
        "    frame = data_clean2[data_clean2['Series name'] == variable]\n",
        "    melted = frame.melt(id_vars=['Country code', 'Series name'], var_name='year', value_name=variable)\n",
        "    melted.drop(columns='Series name', inplace=True)\n",
        "    melted.rename(columns={'Country code': 'country'}, inplace=True)\n",
        "    frame_list.append(melted)\n",
        "\n",
        "all_vars = reduce(lambda left, right: pd.merge(left, right, on=['country', 'year'], how='outer'), frame_list)\n",
        "print(all_vars.head())"
      ],
      "metadata": {
        "colab": {
          "base_uri": "https://localhost:8080/"
        },
        "id": "37MbydY5KZq6",
        "outputId": "50cfebec-2bfb-4210-ff05-e9e0e61e0a0a"
      },
      "execution_count": 23,
      "outputs": [
        {
          "output_type": "stream",
          "name": "stdout",
          "text": [
            "  country  year  cereal_yield  fdi_perc_gdp  elec_access_perc  en_per_gdp  \\\n",
            "0     ABW  1990           NaN           NaN               NaN         NaN   \n",
            "1     ABW  1991           NaN     21.185138               NaN         NaN   \n",
            "2     ABW  1992           NaN     -3.857809               NaN         NaN   \n",
            "3     ABW  1993           NaN     -1.655492               NaN         NaN   \n",
            "4     ABW  1994           NaN     -5.874439               NaN         NaN   \n",
            "\n",
            "   en_per_cap   co2_ttl  co2_per_cap  co2_per_gdp  ...  nat_emerg  \\\n",
            "0         NaN  1840.834    29.620641          NaN  ...        NaN   \n",
            "1         NaN  1928.842    29.838835          NaN  ...        NaN   \n",
            "2         NaN  1723.490    25.239288          NaN  ...        NaN   \n",
            "3         NaN  1771.161    24.405233          NaN  ...        NaN   \n",
            "4         NaN  1763.827    22.977867          NaN  ...        NaN   \n",
            "\n",
            "   pop_urb_aggl_perc  prot_area_perc           gdp  gni_per_cap  \\\n",
            "0                NaN        0.105547           NaN          NaN   \n",
            "1                NaN        0.104930  8.720670e+08          NaN   \n",
            "2                NaN        0.104930  9.586592e+08          NaN   \n",
            "3                NaN        0.104930  1.083240e+09      14940.0   \n",
            "4                NaN        0.104930  1.245810e+09      15320.0   \n",
            "\n",
            "   under_5_mort_rate  pop_growth_perc      pop  urb_pop_growth_perc    urb_pop  \n",
            "0                NaN         1.820254  62147.0             1.780501  31259.941  \n",
            "1                NaN         3.936181  64642.0             3.337974  32321.000  \n",
            "2                NaN         5.484041  68286.0             4.882234  33938.142  \n",
            "3                NaN         6.088818  72573.0             5.483368  35851.062  \n",
            "4                NaN         5.611677  76762.0             5.002538  37690.142  \n",
            "\n",
            "[5 rows x 23 columns]\n"
          ]
        }
      ]
    },
    {
      "cell_type": "code",
      "source": [
        "print(\"check the amount of missing values in each column\")\n",
        "print(all_vars.isnull().sum())"
      ],
      "metadata": {
        "colab": {
          "base_uri": "https://localhost:8080/"
        },
        "id": "YMuCv_nTKs5k",
        "outputId": "ae09bcdc-50af-4f85-d1f6-ef6392753d28"
      },
      "execution_count": 24,
      "outputs": [
        {
          "output_type": "stream",
          "name": "stdout",
          "text": [
            "check the amount of missing values in each column\n",
            "country                   0\n",
            "year                      0\n",
            "cereal_yield           1377\n",
            "fdi_perc_gdp           1111\n",
            "elec_access_perc       5027\n",
            "en_per_gdp             2082\n",
            "en_per_cap             1956\n",
            "co2_ttl                1143\n",
            "co2_per_cap            1146\n",
            "co2_per_gdp            1557\n",
            "other_ghg_ttl          4542\n",
            "ch4_ttl                4526\n",
            "n2o_ttl                4526\n",
            "nat_emerg              4958\n",
            "pop_urb_aggl_perc      2582\n",
            "prot_area_perc          726\n",
            "gdp                     779\n",
            "gni_per_cap            1013\n",
            "under_5_mort_rate       716\n",
            "pop_growth_perc         278\n",
            "pop                     252\n",
            "urb_pop_growth_perc     490\n",
            "urb_pop                 467\n",
            "dtype: int64\n"
          ]
        }
      ]
    },
    {
      "cell_type": "code",
      "source": [
        "# Analyze missing values by year\n",
        "years_missing_sorted = (\n",
        "    all_vars.groupby('year')\n",
        "    .apply(lambda df: df.isnull().sum().sum())\n",
        "    .sort_values()\n",
        "    .to_dict()\n",
        ")\n",
        "\n",
        "print(\"missing values by year:\")\n",
        "for year, count in years_missing_sorted.items():\n",
        "    print(f\"{year} : {count}\")"
      ],
      "metadata": {
        "colab": {
          "base_uri": "https://localhost:8080/"
        },
        "id": "dmYsJHpVLQEI",
        "outputId": "5afacd08-ed0b-49a8-cb3e-cfc891b872f0"
      },
      "execution_count": 25,
      "outputs": [
        {
          "output_type": "stream",
          "name": "stdout",
          "text": [
            "missing values by year:\n",
            "2005 : 1189\n",
            "2000 : 1273\n",
            "1995 : 1317\n",
            "1990 : 1427\n",
            "2007 : 1631\n",
            "2006 : 1633\n",
            "2004 : 1646\n",
            "2008 : 1708\n",
            "2003 : 1714\n",
            "2002 : 1715\n",
            "2001 : 1718\n",
            "1999 : 1729\n",
            "1998 : 1739\n",
            "1997 : 1746\n",
            "1996 : 1756\n",
            "1994 : 1781\n",
            "1993 : 1792\n",
            "1992 : 1810\n",
            "1991 : 1921\n",
            "2009 : 2078\n",
            "2010 : 3038\n",
            "2011 : 4893\n"
          ]
        },
        {
          "output_type": "stream",
          "name": "stderr",
          "text": [
            "/tmp/ipython-input-25-2343179644.py:4: DeprecationWarning: DataFrameGroupBy.apply operated on the grouping columns. This behavior is deprecated, and in a future version of pandas the grouping columns will be excluded from the operation. Either pass `include_groups=False` to exclude the groupings or explicitly select the grouping columns after groupby to silence this warning.\n",
            "  .apply(lambda df: df.isnull().sum().sum())\n"
          ]
        }
      ]
    },
    {
      "cell_type": "code",
      "source": [
        "print(\"number of missing values in the whole dataset before filtering the years:\")\n",
        "print(all_vars.isnull().sum().sum())\n",
        "print(\"number of rows before filtering the years:\")\n",
        "print(all_vars.shape[0])\n",
        "\n",
        "# Keep only years 1991–2008\n",
        "all_vars_clean = all_vars[(all_vars['year'] >= 1991) & (all_vars['year'] <= 2008)]\n",
        "\n",
        "print(\"number of missing values after filtering the years:\")\n",
        "print(all_vars_clean.isnull().sum().sum())\n",
        "print(\"number of rows after filtering the years:\")\n",
        "print(all_vars_clean.shape[0])"
      ],
      "metadata": {
        "colab": {
          "base_uri": "https://localhost:8080/"
        },
        "id": "KbO00FvCRPYe",
        "outputId": "a918e041-c4a1-4a95-8001-f8e31b6d8129"
      },
      "execution_count": 26,
      "outputs": [
        {
          "output_type": "stream",
          "name": "stdout",
          "text": [
            "number of missing values in the whole dataset before filtering the years:\n",
            "41254\n",
            "number of rows before filtering the years:\n",
            "5126\n",
            "number of missing values after filtering the years:\n",
            "29818\n",
            "number of rows after filtering the years:\n",
            "4194\n"
          ]
        }
      ]
    },
    {
      "cell_type": "code",
      "source": [
        "# Count missing values per country\n",
        "country_missing = all_vars_clean.groupby('country').apply(lambda df: df.isnull().sum().sum()).sort_values()\n",
        "print(\"missing values by country:\")\n",
        "for country, count in country_missing.items():\n",
        "    print(f\"{country} : {count}\")\n",
        "\n",
        "print(\"number of missing values before filtering the countries:\")\n",
        "print(all_vars_clean.isnull().sum().sum())\n",
        "print(\"number of rows before filtering the countries:\")\n",
        "print(all_vars_clean.shape[0])"
      ],
      "metadata": {
        "colab": {
          "base_uri": "https://localhost:8080/"
        },
        "id": "BhYS_J4zUqak",
        "outputId": "2598abf0-5ff4-4793-f609-f6aadb0bdd41"
      },
      "execution_count": 27,
      "outputs": [
        {
          "output_type": "stream",
          "name": "stdout",
          "text": [
            "missing values by country:\n",
            "AGO : 81\n",
            "ARG : 81\n",
            "AUS : 81\n",
            "AUT : 81\n",
            "BOL : 81\n",
            "BRA : 81\n",
            "BGR : 81\n",
            "BGD : 81\n",
            "COL : 81\n",
            "COG : 81\n",
            "CIV : 81\n",
            "CMR : 81\n",
            "CHN : 81\n",
            "CHL : 81\n",
            "CHE : 81\n",
            "CAN : 81\n",
            "DEU : 81\n",
            "DNK : 81\n",
            "DOM : 81\n",
            "EGY : 81\n",
            "EMU : 81\n",
            "ESP : 81\n",
            "ECU : 81\n",
            "CRI : 81\n",
            "GTM : 81\n",
            "HND : 81\n",
            "HUN : 81\n",
            "IDN : 81\n",
            "GHA : 81\n",
            "GBR : 81\n",
            "FRA : 81\n",
            "FIN : 81\n",
            "ITA : 81\n",
            "ISR : 81\n",
            "JPN : 81\n",
            "JOR : 81\n",
            "KOR : 81\n",
            "KEN : 81\n",
            "IND : 81\n",
            "IRL : 81\n",
            "LMC : 81\n",
            "LMY : 81\n",
            "LAC : 81\n",
            "SAU : 81\n",
            "SAS : 81\n",
            "SDN : 81\n",
            "SLV : 81\n",
            "SEN : 81\n",
            "NZL : 81\n",
            "PAK : 81\n",
            "PER : 81\n",
            "PAN : 81\n",
            "PHL : 81\n",
            "PRY : 81\n",
            "PRT : 81\n",
            "ROM : 81\n",
            "MOZ : 81\n",
            "MYS : 81\n",
            "NLD : 81\n",
            "NGA : 81\n",
            "MIC : 81\n",
            "MNA : 81\n",
            "MEX : 81\n",
            "MAR : 81\n",
            "SWE : 81\n",
            "THA : 81\n",
            "TGO : 81\n",
            "SYR : 81\n",
            "VNM : 81\n",
            "URY : 81\n",
            "TZA : 81\n",
            "TUR : 81\n",
            "USA : 81\n",
            "UMC : 81\n",
            "VEN : 81\n",
            "ZMB : 81\n",
            "ZAF : 81\n",
            "ZAR : 82\n",
            "YEM : 82\n",
            "GRC : 82\n",
            "POL : 82\n",
            "DZA : 84\n",
            "WLD : 84\n",
            "SSA : 84\n",
            "ETH : 84\n",
            "LIC : 84\n",
            "ECA : 85\n",
            "ARE : 85\n",
            "RUS : 86\n",
            "UKR : 86\n",
            "BLR : 87\n",
            "ARM : 87\n",
            "UZB : 87\n",
            "KAZ : 88\n",
            "IRN : 89\n",
            "CZE : 89\n",
            "BEL : 90\n",
            "AZE : 91\n",
            "GEO : 92\n",
            "LBN : 92\n",
            "HTI : 94\n",
            "NIC : 96\n",
            "MLT : 99\n",
            "TTO : 99\n",
            "JAM : 99\n",
            "LKA : 99\n",
            "GAB : 99\n",
            "BEN : 99\n",
            "KHM : 99\n",
            "BWA : 99\n",
            "SGP : 99\n",
            "OMN : 99\n",
            "MNG : 99\n",
            "NOR : 99\n",
            "TUN : 99\n",
            "HIC : 99\n",
            "CYP : 99\n",
            "ALB : 100\n",
            "EAP : 102\n",
            "NPL : 103\n",
            "NAM : 104\n",
            "LVA : 104\n",
            "EST : 104\n",
            "MDA : 105\n",
            "SVN : 105\n",
            "TJK : 105\n",
            "HRV : 105\n",
            "KGZ : 106\n",
            "LTU : 106\n",
            "TKM : 107\n",
            "SVK : 107\n",
            "MKD : 107\n",
            "LUX : 108\n",
            "LBY : 108\n",
            "BRN : 109\n",
            "KWT : 113\n",
            "ISL : 117\n",
            "CUB : 117\n",
            "ZWE : 117\n",
            "BHR : 117\n",
            "ERI : 121\n",
            "IRQ : 122\n",
            "BIH : 123\n",
            "HKG : 124\n",
            "MLI : 126\n",
            "GIN : 126\n",
            "BFA : 126\n",
            "MDG : 126\n",
            "UGA : 126\n",
            "NER : 126\n",
            "QAT : 135\n",
            "SWZ : 136\n",
            "BHS : 136\n",
            "MUS : 136\n",
            "VCT : 136\n",
            "VUT : 136\n",
            "GUY : 136\n",
            "BLZ : 136\n",
            "ATG : 136\n",
            "BRB : 136\n",
            "COM : 136\n",
            "CPV : 136\n",
            "DMA : 136\n",
            "GRD : 136\n",
            "GNB : 136\n",
            "FJI : 136\n",
            "SLB : 137\n",
            "SUR : 137\n",
            "DJI : 137\n",
            "GMB : 141\n",
            "TCD : 144\n",
            "SLE : 144\n",
            "MRT : 144\n",
            "MWI : 144\n",
            "PNG : 144\n",
            "RWA : 144\n",
            "CAF : 144\n",
            "BDI : 144\n",
            "LAO : 144\n",
            "BTN : 148\n",
            "LBR : 149\n",
            "SID : 152\n",
            "GNQ : 154\n",
            "KNA : 154\n",
            "LCA : 154\n",
            "WSM : 154\n",
            "TON : 154\n",
            "SYC : 154\n",
            "KIR : 156\n",
            "SRB : 158\n",
            "MDV : 164\n",
            "PLW : 166\n",
            "AFG : 170\n",
            "MMR : 171\n",
            "PRK : 171\n",
            "FSM : 184\n",
            "MHL : 184\n",
            "LSO : 190\n",
            "STP : 198\n",
            "MAC : 198\n",
            "TMP : 202\n",
            "NCL : 204\n",
            "ADO : 206\n",
            "SOM : 206\n",
            "WBG : 207\n",
            "GRL : 216\n",
            "ABW : 226\n",
            "BMU : 226\n",
            "PRI : 230\n",
            "MNE : 231\n",
            "PYF : 232\n",
            "LIE : 234\n",
            "MCO : 234\n",
            "CYM : 250\n",
            "FRO : 259\n",
            "GIB : 261\n",
            "NIU : 270\n",
            "COK : 270\n",
            "GUM : 270\n",
            "SMR : 270\n",
            "TUV : 272\n",
            "IMY : 282\n",
            "VIR : 285\n",
            "ASM : 288\n",
            "NRU : 288\n",
            "MNP : 288\n",
            "CHI : 288\n",
            "TCA : 296\n",
            "MYT : 324\n",
            "KSV : 325\n",
            "MAF : 342\n",
            "CUW : 357\n",
            "SXM : 357\n",
            "number of missing values before filtering the countries:\n",
            "29818\n",
            "number of rows before filtering the countries:\n",
            "4194\n"
          ]
        },
        {
          "output_type": "stream",
          "name": "stderr",
          "text": [
            "/tmp/ipython-input-27-3024973126.py:2: DeprecationWarning: DataFrameGroupBy.apply operated on the grouping columns. This behavior is deprecated, and in a future version of pandas the grouping columns will be excluded from the operation. Either pass `include_groups=False` to exclude the groupings or explicitly select the grouping columns after groupby to silence this warning.\n",
            "  country_missing = all_vars_clean.groupby('country').apply(lambda df: df.isnull().sum().sum()).sort_values()\n"
          ]
        }
      ]
    },
    {
      "cell_type": "code",
      "source": [
        "# Keep countries with < 90 missing values\n",
        "countries_filter = country_missing[country_missing < 90].index\n",
        "all_vars_clean = all_vars_clean[all_vars_clean['country'].isin(countries_filter)]\n",
        "\n",
        "print(\"number of missing values after filtering the countries:\")\n",
        "print(all_vars_clean.isnull().sum().sum())\n",
        "print(\"number of rows after filtering the countries:\")\n",
        "print(all_vars_clean.shape[0])"
      ],
      "metadata": {
        "colab": {
          "base_uri": "https://localhost:8080/"
        },
        "id": "NhQECSBlUt1J",
        "outputId": "28846e21-bb19-4518-b720-3557228e38a6"
      },
      "execution_count": 28,
      "outputs": [
        {
          "output_type": "stream",
          "name": "stdout",
          "text": [
            "number of missing values after filtering the countries:\n",
            "7854\n",
            "number of rows after filtering the countries:\n",
            "1728\n"
          ]
        }
      ]
    },
    {
      "cell_type": "code",
      "source": [
        "# Drop features with > 20 missing values\n",
        "vars_to_drop = all_vars_clean.columns[all_vars_clean.isnull().sum() > 20]\n",
        "all_vars_clean2 = all_vars_clean.drop(columns=vars_to_drop)\n",
        "\n",
        "print(\"Remaining missing values per column:\")\n",
        "print(all_vars_clean2.isnull().sum())"
      ],
      "metadata": {
        "colab": {
          "base_uri": "https://localhost:8080/"
        },
        "id": "CpJ7OK_dUwkc",
        "outputId": "c32b0599-f43c-4134-984d-6f45a9f5fed4"
      },
      "execution_count": 29,
      "outputs": [
        {
          "output_type": "stream",
          "name": "stdout",
          "text": [
            "Remaining missing values per column:\n",
            "country                 0\n",
            "year                    0\n",
            "cereal_yield           10\n",
            "fdi_perc_gdp           17\n",
            "en_per_gdp              0\n",
            "en_per_cap              0\n",
            "co2_ttl                 9\n",
            "co2_per_cap             9\n",
            "co2_per_gdp             9\n",
            "pop_urb_aggl_perc       0\n",
            "prot_area_perc          0\n",
            "gdp                     2\n",
            "gni_per_cap            16\n",
            "under_5_mort_rate       0\n",
            "pop_growth_perc         0\n",
            "pop                     0\n",
            "urb_pop_growth_perc     0\n",
            "urb_pop                 0\n",
            "dtype: int64\n"
          ]
        }
      ]
    },
    {
      "cell_type": "code",
      "source": [
        "# Drop any rows with remaining NaNs\n",
        "all_vars_clean3 = all_vars_clean2.dropna()"
      ],
      "metadata": {
        "id": "hwaumgfQU0AM"
      },
      "execution_count": 30,
      "outputs": []
    },
    {
      "cell_type": "code",
      "source": [
        "print(\"Remaining missing values per column:\")\n",
        "print(all_vars_clean3.isnull().sum())"
      ],
      "metadata": {
        "colab": {
          "base_uri": "https://localhost:8080/"
        },
        "id": "C0P8MEK7U2Qm",
        "outputId": "e03371ca-bdca-46d2-cc5d-bb9f9e79bdb7"
      },
      "execution_count": 31,
      "outputs": [
        {
          "output_type": "stream",
          "name": "stdout",
          "text": [
            "Remaining missing values per column:\n",
            "country                0\n",
            "year                   0\n",
            "cereal_yield           0\n",
            "fdi_perc_gdp           0\n",
            "en_per_gdp             0\n",
            "en_per_cap             0\n",
            "co2_ttl                0\n",
            "co2_per_cap            0\n",
            "co2_per_gdp            0\n",
            "pop_urb_aggl_perc      0\n",
            "prot_area_perc         0\n",
            "gdp                    0\n",
            "gni_per_cap            0\n",
            "under_5_mort_rate      0\n",
            "pop_growth_perc        0\n",
            "pop                    0\n",
            "urb_pop_growth_perc    0\n",
            "urb_pop                0\n",
            "dtype: int64\n"
          ]
        }
      ]
    },
    {
      "cell_type": "code",
      "source": [
        "print(\"Final shape of the cleaned dataset:\")\n",
        "print(all_vars_clean3.shape)"
      ],
      "metadata": {
        "colab": {
          "base_uri": "https://localhost:8080/"
        },
        "id": "rPjBI5pEU2pM",
        "outputId": "e5305f7f-ab4c-409d-91e5-34e075b0b304"
      },
      "execution_count": 32,
      "outputs": [
        {
          "output_type": "stream",
          "name": "stdout",
          "text": [
            "Final shape of the cleaned dataset:\n",
            "(1700, 18)\n"
          ]
        }
      ]
    },
    {
      "cell_type": "code",
      "source": [
        "# Save to CSV\n",
        "all_vars_clean3.to_csv('data_cleaned1.csv', index=False)"
      ],
      "metadata": {
        "id": "9g6ozranU61b"
      },
      "execution_count": 33,
      "outputs": []
    }
  ]
}